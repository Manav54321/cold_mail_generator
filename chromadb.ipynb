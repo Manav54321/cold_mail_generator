{
 "cells": [
  {
   "cell_type": "code",
   "execution_count": null,
   "id": "58baaada",
   "metadata": {},
   "outputs": [],
   "source": [
    "%pip install chromadb"
   ]
  },
  {
   "cell_type": "code",
   "execution_count": 1,
   "id": "47bdafb0",
   "metadata": {},
   "outputs": [],
   "source": [
    "import chromadb\n",
    "client = chromadb.Client()\n",
    "collection = client.create_collection(name=\"my_collection\")"
   ]
  },
  {
   "cell_type": "code",
   "execution_count": 5,
   "id": "9a7698b9",
   "metadata": {},
   "outputs": [],
   "source": [
    "collection.add(\n",
    "    documents=[\n",
    "        \"This is a test document about New York City.\",\n",
    "        \"Yet another test document about Delhi.\",\n",
    "    ],\n",
    "    ids=[\n",
    "        \"id1\",\n",
    "        \"id2\",\n",
    "    ]\n",
    ")"
   ]
  },
  {
   "cell_type": "code",
   "execution_count": 6,
   "id": "98231ef9",
   "metadata": {},
   "outputs": [
    {
     "name": "stdout",
     "output_type": "stream",
     "text": [
      "{'ids': ['id1', 'id2'], 'embeddings': None, 'documents': ['This is a test document about New York City.', 'Yet another test document about Delhi.'], 'uris': None, 'included': ['metadatas', 'documents'], 'data': None, 'metadatas': [None, None]}\n"
     ]
    }
   ],
   "source": [
    "all_docs = collection.get()\n",
    "print(all_docs)"
   ]
  },
  {
   "cell_type": "code",
   "execution_count": 7,
   "id": "ac289566",
   "metadata": {},
   "outputs": [
    {
     "name": "stdout",
     "output_type": "stream",
     "text": [
      "{'ids': ['id1'], 'embeddings': None, 'documents': ['This is a test document about New York City.'], 'uris': None, 'included': ['metadatas', 'documents'], 'data': None, 'metadatas': [None]}\n"
     ]
    }
   ],
   "source": [
    "# by ids \n",
    "doc_01 = collection.get(ids=[\"id1\"])\n",
    "print(doc_01)"
   ]
  },
  {
   "cell_type": "code",
   "execution_count": 13,
   "id": "9dcb124d",
   "metadata": {},
   "outputs": [
    {
     "data": {
      "text/plain": [
       "{'ids': [['id2']],\n",
       " 'embeddings': None,\n",
       " 'documents': [['Yet another test document about Delhi.']],\n",
       " 'uris': None,\n",
       " 'included': ['metadatas', 'documents', 'distances'],\n",
       " 'data': None,\n",
       " 'metadatas': [[None]],\n",
       " 'distances': [[1.1661944389343262]]}"
      ]
     },
     "execution_count": 13,
     "metadata": {},
     "output_type": "execute_result"
    }
   ],
   "source": [
    "results = collection.query(\n",
    "        query_texts=[\"query is about Gandhi\"],\n",
    "        n_results=1,\n",
    ")\n",
    "results"
   ]
  },
  {
   "cell_type": "code",
   "execution_count": 14,
   "id": "c886882a",
   "metadata": {},
   "outputs": [],
   "source": [
    "collection.add(\n",
    "    documents=[\n",
    "        \"This document is about New York\",\n",
    "        \"This document is about Delhi\"\n",
    "    ],\n",
    "    ids=[\"id3\", \"id4\"],\n",
    "    metadatas=[\n",
    "        {\"url\": \"https://en.wikipedia.org/wiki/New_York_City\"},\n",
    "        {\"url\": \"https://en.wikipedia.org/wiki/New_Delhi\"}\n",
    "    ]\n",
    ")"
   ]
  },
  {
   "cell_type": "code",
   "execution_count": 15,
   "id": "75a95379",
   "metadata": {},
   "outputs": [
    {
     "data": {
      "text/plain": [
       "{'ids': [['id2', 'id4']],\n",
       " 'embeddings': None,\n",
       " 'documents': [['Yet another test document about Delhi.',\n",
       "   'This document is about Delhi']],\n",
       " 'uris': None,\n",
       " 'included': ['metadatas', 'documents', 'distances'],\n",
       " 'data': None,\n",
       " 'metadatas': [[None, {'url': 'https://en.wikipedia.org/wiki/New_Delhi'}]],\n",
       " 'distances': [[1.5407938957214355, 1.558892011642456]]}"
      ]
     },
     "execution_count": 15,
     "metadata": {},
     "output_type": "execute_result"
    }
   ],
   "source": [
    "results = collection.query(\n",
    "    query_texts=[\"Query is about Chhole Bhature\"],\n",
    "    n_results=2\n",
    ")\n",
    "results"
   ]
  },
  {
   "cell_type": "code",
   "execution_count": null,
   "id": "f723d28a",
   "metadata": {},
   "outputs": [],
   "source": []
  }
 ],
 "metadata": {
  "kernelspec": {
   "display_name": "notebook",
   "language": "python",
   "name": "python3"
  },
  "language_info": {
   "codemirror_mode": {
    "name": "ipython",
    "version": 3
   },
   "file_extension": ".py",
   "mimetype": "text/x-python",
   "name": "python",
   "nbconvert_exporter": "python",
   "pygments_lexer": "ipython3",
   "version": "3.12.3"
  }
 },
 "nbformat": 4,
 "nbformat_minor": 5
}
